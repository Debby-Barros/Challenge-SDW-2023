{
  "cells": [
    {
      "cell_type": "markdown",
      "metadata": {
        "id": "4gsdyIeKc_Tk"
      },
      "source": [
        "Utilizando o método ETL para o Desafio do curso de Data Science, esse desafio foi baseado em um \"mercadinho\" onde vamos realizar a extração dos produtos desse mercadinho de um arquivo csv e então transformar e realizar o load."
      ]
    },
    {
      "cell_type": "markdown",
      "metadata": {
        "id": "iTPzgSn6YFZa"
      },
      "source": [
        "# Extraction\n"
      ]
    },
    {
      "cell_type": "code",
      "execution_count": null,
      "metadata": {},
      "outputs": [],
      "source": [
        "# pip install pandas"
      ]
    },
    {
      "cell_type": "code",
      "execution_count": 24,
      "metadata": {
        "id": "vZzU1tZ_YJDz"
      },
      "outputs": [],
      "source": [
        "import pandas as pd\n",
        "\n",
        "# lendo o arquivo csv\n",
        "df = pd.read_csv('Challenge-SDW-2023.csv')"
      ]
    },
    {
      "cell_type": "markdown",
      "metadata": {
        "id": "Zzbf3UC1eVDt"
      },
      "source": [
        "# Transform"
      ]
    },
    {
      "cell_type": "code",
      "execution_count": 25,
      "metadata": {
        "colab": {
          "base_uri": "https://localhost:8080/",
          "height": 227
        },
        "id": "r--lKi07eZ1p",
        "outputId": "f3a7a40b-3847-4166-a340-b713a7639a70"
      },
      "outputs": [
        {
          "data": {
            "text/html": [
              "<div>\n",
              "<style scoped>\n",
              "    .dataframe tbody tr th:only-of-type {\n",
              "        vertical-align: middle;\n",
              "    }\n",
              "\n",
              "    .dataframe tbody tr th {\n",
              "        vertical-align: top;\n",
              "    }\n",
              "\n",
              "    .dataframe thead th {\n",
              "        text-align: right;\n",
              "    }\n",
              "</style>\n",
              "<table border=\"1\" class=\"dataframe\">\n",
              "  <thead>\n",
              "    <tr style=\"text-align: right;\">\n",
              "      <th></th>\n",
              "      <th>ID</th>\n",
              "      <th>Produto</th>\n",
              "      <th>Qtd</th>\n",
              "      <th>VendaTot</th>\n",
              "      <th>Data</th>\n",
              "      <th>preco_medio</th>\n",
              "      <th>custo_producao</th>\n",
              "      <th>lucro</th>\n",
              "    </tr>\n",
              "  </thead>\n",
              "  <tbody>\n",
              "    <tr>\n",
              "      <th>0</th>\n",
              "      <td>1</td>\n",
              "      <td>arroz</td>\n",
              "      <td>10</td>\n",
              "      <td>150.0</td>\n",
              "      <td>2023-09-10</td>\n",
              "      <td>15.0</td>\n",
              "      <td>80</td>\n",
              "      <td>70.0</td>\n",
              "    </tr>\n",
              "    <tr>\n",
              "      <th>1</th>\n",
              "      <td>2</td>\n",
              "      <td>feijao</td>\n",
              "      <td>5</td>\n",
              "      <td>95.0</td>\n",
              "      <td>2023-09-9</td>\n",
              "      <td>19.0</td>\n",
              "      <td>80</td>\n",
              "      <td>15.0</td>\n",
              "    </tr>\n",
              "    <tr>\n",
              "      <th>2</th>\n",
              "      <td>3</td>\n",
              "      <td>farinha</td>\n",
              "      <td>8</td>\n",
              "      <td>120.0</td>\n",
              "      <td>2023-09-11</td>\n",
              "      <td>15.0</td>\n",
              "      <td>80</td>\n",
              "      <td>40.0</td>\n",
              "    </tr>\n",
              "    <tr>\n",
              "      <th>3</th>\n",
              "      <td>4</td>\n",
              "      <td>acucar</td>\n",
              "      <td>12</td>\n",
              "      <td>240.0</td>\n",
              "      <td>2023-09-10</td>\n",
              "      <td>20.0</td>\n",
              "      <td>80</td>\n",
              "      <td>160.0</td>\n",
              "    </tr>\n",
              "  </tbody>\n",
              "</table>\n",
              "</div>"
            ],
            "text/plain": [
              "   ID   Produto   Qtd   VendaTot         Data   preco_medio   custo_producao  \\\n",
              "0   1     arroz    10      150.0   2023-09-10          15.0               80   \n",
              "1   2    feijao     5       95.0    2023-09-9          19.0               80   \n",
              "2   3   farinha     8      120.0   2023-09-11          15.0               80   \n",
              "3   4    acucar    12      240.0   2023-09-10          20.0               80   \n",
              "\n",
              "    lucro  \n",
              "0    70.0  \n",
              "1    15.0  \n",
              "2    40.0  \n",
              "3   160.0  "
            ]
          },
          "execution_count": 25,
          "metadata": {},
          "output_type": "execute_result"
        }
      ],
      "source": [
        "# calculando o preço médio por unidade\n",
        "\n",
        "df[' preco_medio'] = df[' VendaTot'] / df[' Qtd']\n",
        "\n",
        "\n",
        "# calculando o lucro\n",
        "\n",
        "df[' custo_producao'] = 80 # custo de prod de R$75 por unidade\n",
        "\n",
        "df[' lucro'] = df[' VendaTot'] - df[' custo_producao']\n",
        "\n",
        "\n",
        "# exibindo a tabela com as novas métricas\n",
        "df"
      ]
    },
    {
      "cell_type": "markdown",
      "metadata": {
        "id": "W5_6gruloiCr"
      },
      "source": [
        "# Load\n",
        "\n",
        "Trocando as métricas do csv para um banco de dados"
      ]
    },
    {
      "cell_type": "code",
      "execution_count": 26,
      "metadata": {
        "colab": {
          "base_uri": "https://localhost:8080/"
        },
        "id": "2S_tltYaolQh",
        "outputId": "cf40a676-23c0-4030-d157-bd0a7c6926cc"
      },
      "outputs": [
        {
          "name": "stdout",
          "output_type": "stream",
          "text": [
            "+----+----------+------+-----------+-------------+--------------+-----------------+--------+\n",
            "| ID |  Produto |  Qtd |  VendaTot |     Data    |  preco_medio |  custo_producao |  lucro |\n",
            "+----+----------+------+-----------+-------------+--------------+-----------------+--------+\n",
            "| 1  |   arroz  |  10  |   150.0   |  2023-09-10 |     15.0     |        80       |  70.0  |\n",
            "| 2  |  feijao  |  5   |    95.0   |   2023-09-9 |     19.0     |        80       |  15.0  |\n",
            "| 3  |  farinha |  8   |   120.0   |  2023-09-11 |     15.0     |        80       |  40.0  |\n",
            "| 4  |  acucar  |  12  |   240.0   |  2023-09-10 |     20.0     |        80       | 160.0  |\n",
            "+----+----------+------+-----------+-------------+--------------+-----------------+--------+\n"
          ]
        }
      ],
      "source": [
        "# pip install sqlalchemy\n",
        "\n",
        "from sqlalchemy import create_engine, text\n",
        "from prettytable import PrettyTable\n",
        "\n",
        "engine = create_engine('sqlite://', echo=False)\n",
        "df.to_sql('Market_Data', con=engine, if_exists='replace', index=False)\n",
        "\n",
        "query = text(\"SELECT * FROM Market_Data\")\n",
        "\n",
        "with engine.connect() as connection:\n",
        "    result = connection.execute(query)\n",
        "\n",
        "column_names = result.keys()\n",
        "\n",
        "# Criação da tabela com as colunas\n",
        "table = PrettyTable(column_names)\n",
        "\n",
        "# Adicionando as linhas de dados à tabela\n",
        "for row in result:\n",
        "    table.add_row(row)\n",
        "\n",
        "print(table)\n"
      ]
    }
  ],
  "metadata": {
    "colab": {
      "provenance": []
    },
    "kernelspec": {
      "display_name": "Python 3",
      "name": "python3"
    },
    "language_info": {
      "codemirror_mode": {
        "name": "ipython",
        "version": 3
      },
      "file_extension": ".py",
      "mimetype": "text/x-python",
      "name": "python",
      "nbconvert_exporter": "python",
      "pygments_lexer": "ipython3",
      "version": "3.11.4"
    }
  },
  "nbformat": 4,
  "nbformat_minor": 0
}
